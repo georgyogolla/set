{
 "cells": [
  {
   "cell_type": "markdown",
   "id": "98b72b40",
   "metadata": {},
   "source": [
    "### Set is a data structure that does not allow duplicate items"
   ]
  },
  {
   "cell_type": "code",
   "execution_count": 1,
   "id": "19dbd612",
   "metadata": {},
   "outputs": [],
   "source": [
    "A = [1,1,2,2,3,3,4,4,5,5,6,6,7,7,8,8,9,9]\n",
    "B = [6,6,7,7,8,8,9,9,10,10,11,11,12,12,13,13,14,14]"
   ]
  },
  {
   "cell_type": "code",
   "execution_count": 4,
   "id": "a548ad0e",
   "metadata": {},
   "outputs": [
    {
     "data": {
      "text/plain": [
       "{1, 2, 3, 4, 5, 6, 7, 8, 9}"
      ]
     },
     "execution_count": 4,
     "metadata": {},
     "output_type": "execute_result"
    }
   ],
   "source": [
    "# Returns a dictionary\n",
    "A = set(A)\n",
    "A"
   ]
  },
  {
   "cell_type": "code",
   "execution_count": 5,
   "id": "41b3b385",
   "metadata": {},
   "outputs": [
    {
     "data": {
      "text/plain": [
       "{6, 7, 8, 9, 10, 11, 12, 13, 14}"
      ]
     },
     "execution_count": 5,
     "metadata": {},
     "output_type": "execute_result"
    }
   ],
   "source": [
    "B = set(B)\n",
    "B"
   ]
  },
  {
   "cell_type": "code",
   "execution_count": 7,
   "id": "a5fd963d",
   "metadata": {},
   "outputs": [
    {
     "data": {
      "text/plain": [
       "{6, 7, 8, 9}"
      ]
     },
     "execution_count": 7,
     "metadata": {},
     "output_type": "execute_result"
    }
   ],
   "source": [
    "# returns similar items that are in both A and B\n",
    "A & B # Intersection"
   ]
  },
  {
   "cell_type": "code",
   "execution_count": 10,
   "id": "83b2a47e",
   "metadata": {},
   "outputs": [
    {
     "data": {
      "text/plain": [
       "{1, 2, 3, 4, 5, 6, 7, 8, 9, 10, 11, 12, 13, 14}"
      ]
     },
     "execution_count": 10,
     "metadata": {},
     "output_type": "execute_result"
    }
   ],
   "source": [
    "# returns all of the items in A and all of the items in B\n",
    "A | B # Union"
   ]
  },
  {
   "cell_type": "code",
   "execution_count": 12,
   "id": "7a515744",
   "metadata": {},
   "outputs": [
    {
     "data": {
      "text/plain": [
       "{1, 2, 3, 4, 5}"
      ]
     },
     "execution_count": 12,
     "metadata": {},
     "output_type": "execute_result"
    }
   ],
   "source": [
    "# Returns items that are in A and ae not in B\n",
    "A - B # Difference"
   ]
  },
  {
   "cell_type": "code",
   "execution_count": 13,
   "id": "27498458",
   "metadata": {},
   "outputs": [
    {
     "data": {
      "text/plain": [
       "{1, 2, 3, 4, 5, 10, 11, 12, 13, 14}"
      ]
     },
     "execution_count": 13,
     "metadata": {},
     "output_type": "execute_result"
    }
   ],
   "source": [
    "# Returns items that ae in A and items that are in B but are not in both of them\n",
    "A ^ B # Symmetric Difference"
   ]
  },
  {
   "cell_type": "code",
   "execution_count": 14,
   "id": "1ce9fcf5",
   "metadata": {},
   "outputs": [],
   "source": [
    "# Creating an empty variable\n",
    "z = None"
   ]
  },
  {
   "cell_type": "code",
   "execution_count": null,
   "id": "69223753",
   "metadata": {},
   "outputs": [],
   "source": []
  }
 ],
 "metadata": {
  "kernelspec": {
   "display_name": "Python 3 (ipykernel)",
   "language": "python",
   "name": "python3"
  },
  "language_info": {
   "codemirror_mode": {
    "name": "ipython",
    "version": 3
   },
   "file_extension": ".py",
   "mimetype": "text/x-python",
   "name": "python",
   "nbconvert_exporter": "python",
   "pygments_lexer": "ipython3",
   "version": "3.9.7"
  }
 },
 "nbformat": 4,
 "nbformat_minor": 5
}
